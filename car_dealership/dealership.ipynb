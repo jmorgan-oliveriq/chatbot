{
 "cells": [
  {
   "cell_type": "code",
   "execution_count": 2,
   "metadata": {},
   "outputs": [],
   "source": [
    "from car_data_etl import prepare_car_reviews_data\n",
    "import polars as pl\n",
    "\n",
    "DATA_PATH = \"data/*\""
   ]
  },
  {
   "cell_type": "code",
   "execution_count": 2,
   "metadata": {},
   "outputs": [
    {
     "data": {
      "text/plain": [
       "dict_keys(['ids', 'documents', 'metadatas'])"
      ]
     },
     "execution_count": 2,
     "metadata": {},
     "output_type": "execute_result"
    }
   ],
   "source": [
    "chroma_car_reviews_dict = prepare_car_reviews_data(DATA_PATH)\n",
    "chroma_car_reviews_dict.keys()"
   ]
  },
  {
   "cell_type": "code",
   "execution_count": 3,
   "metadata": {},
   "outputs": [
    {
     "data": {
      "text/plain": [
       "'review5860'"
      ]
     },
     "execution_count": 3,
     "metadata": {},
     "output_type": "execute_result"
    }
   ],
   "source": [
    "chroma_car_reviews_dict[\"ids\"][-10]"
   ]
  },
  {
   "cell_type": "code",
   "execution_count": 4,
   "metadata": {},
   "outputs": [
    {
     "name": "stdout",
     "output_type": "stream",
     "text": [
      " This is the first major Chinese car exported to the USA- I got the S60 Inscription, Platinum from Princeton Volvo.  We were looking for a car for long trips up to Canada that is both comfortable and fuel efficient.  I looked at Lexus, Audi and VW cars (we had a Honda, and had a bad reliability experience with the Mercedes E320 wagon).   The Audi is more quiet, but has a smaller interior with a smaller fuel tank - for long trips we really appreciated both the larger cabin, and the good fuel mileage.  We recently did 1000 miles up to Canada and back and can testify that the car performed very well.  Our son was comfortable in the back reading - in the Honda he got motion sickness.   In particular, while some journalists do not like the adaptive cruse control, I found it fantastic - once one gets use to using it, it makes long drives on moderately busy freeways much much more enjoyable and stress free.  The S60L has a longer wheel base which reduce handling, but increases stability - the car performed perfectly on busy highways with large trucks that can blow a car around.  Many journalists complained about the lack of a touch screen - I strictly preferred the S60 to both the S90 and Audi A4- the navigation screen is perfect - I find the heads up display very distracting, and once one gets the hang of it, the S60 system is efficient - the hardest thing to do is enter an address, but with Volvo on call this is easy - find the address on ones phone and then send to the car. The negatives are the following - small trunk - holds about 4 roll-ons plus a bit  - we got the spare tire that reduces trunk space (which for long trips is something we value - being stuck on a highway with a flat at 2am is not great).  Second, one can put a Class 2 hitch for a bike rack or cargo carrier, but for the moment there are no roof racks for the Inscription - Rhino Rack says they may do them in the future, but Thule (and hence Volvo) says they will not do them - so I would not recommend the car for a family that needs more space - with roof racks and a cargo box, the car could be a good family car - large cabin plus comfortable, but precise ride.  Finally, the car can use regular gas, but 89 octane gets 12% better mileage, so we will use that going forward. Overall, we would get the same car again, unless there is a V60 Inscription, which would solve the lack of cargo space, while giving more cabin space.Update August 2018:  Our initial impressions have not changed much.  The following seemingly small issues would probably lead me to buy a different car this time:1. Headlights are not great - it would be nice to have running lamps - I have these on my other car and have found that they do improve driving in the fog and snow.  Volvo used to have these, but no longer.2. We did use the spare on the way to the airport and so it saved us from missing a flight - wish they would make more room for a spare.  3. Still no rack for the car.  Really irritating, especially if  one skis.   I put a hitch on for a bike rack that I do us frequently, and had a wiring harness put in for towing - Volvo does not support these, so it was after market.  4. Windshield wipers are not very good, and given the unusual specs I could not find an aftermarket pair that would do better.Overall, it is a nice car, but for the American market Volvo really seems to want to force people to large gas guzzler's for car's that have utility features .  A sedan is great for day to day driving, and the extra room in the back is very nice.  However, for holidays one would like more usability features - overhead rack, better wipers, better lights.  In the theory the cross-country is suppose to cover these, but then why the small back seat? The longer Inscription is a definite improvement.\n"
     ]
    }
   ],
   "source": [
    "print(chroma_car_reviews_dict[\"documents\"][-10])"
   ]
  },
  {
   "cell_type": "code",
   "execution_count": 5,
   "metadata": {},
   "outputs": [
    {
     "data": {
      "text/plain": [
       "{'Review_Title': 'S60L - China Rules!',\n",
       " 'Rating': 5.0,\n",
       " 'Vehicle_Year': 2017,\n",
       " 'Vehicle_Model': 'Volvo'}"
      ]
     },
     "execution_count": 5,
     "metadata": {},
     "output_type": "execute_result"
    }
   ],
   "source": [
    "chroma_car_reviews_dict[\"metadatas\"][-10]\n"
   ]
  }
 ],
 "metadata": {
  "kernelspec": {
   "display_name": ".venv",
   "language": "python",
   "name": "python3"
  },
  "language_info": {
   "codemirror_mode": {
    "name": "ipython",
    "version": 3
   },
   "file_extension": ".py",
   "mimetype": "text/x-python",
   "name": "python",
   "nbconvert_exporter": "python",
   "pygments_lexer": "ipython3",
   "version": "3.11.7"
  }
 },
 "nbformat": 4,
 "nbformat_minor": 2
}
